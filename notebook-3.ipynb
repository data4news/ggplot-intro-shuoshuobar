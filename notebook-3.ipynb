{
 "cells": [
  {
   "cell_type": "markdown",
   "metadata": {},
   "source": [
    "# Describing the same data with summary statistics"
   ]
  },
  {
   "cell_type": "markdown",
   "metadata": {},
   "source": [
    "### Python and R Setup\n",
    "\n",
    "This setup allows you to use *Python* and *R* in the same notebook.\n",
    "\n",
    "To set up a similar notebook, see quickstart instructions here:\n",
    "\n",
    "https://github.com/dmil/jupyter-quickstart\n",
    "\n"
   ]
  },
  {
   "cell_type": "code",
   "execution_count": 2,
   "metadata": {},
   "outputs": [],
   "source": [
    "%load_ext rpy2.ipython\n",
    "%load_ext autoreload\n",
    "%autoreload 2\n",
    "\n",
    "%matplotlib inline  \n",
    "from matplotlib import rcParams\n",
    "rcParams['figure.figsize'] = (16, 100)\n",
    "\n",
    "import warnings\n",
    "from rpy2.rinterface import RRuntimeWarning\n",
    "warnings.filterwarnings(\"ignore\") # Ignore all warnings\n",
    "# warnings.filterwarnings(\"ignore\", category=RRuntimeWarning) # Show some warnings\n",
    "\n",
    "import pandas as pd\n",
    "import numpy as np\n",
    "import matplotlib.pyplot as plt\n",
    "from IPython.display import display, HTML"
   ]
  },
  {
   "cell_type": "code",
   "execution_count": 3,
   "metadata": {},
   "outputs": [
    {
     "data": {
      "application/javascript": [
       "// Disable auto-scrolling\n",
       "IPython.OutputArea.prototype._should_scroll = function(lines) {\n",
       "    return false;\n",
       "}\n"
      ],
      "text/plain": [
       "<IPython.core.display.Javascript object>"
      ]
     },
     "metadata": {},
     "output_type": "display_data"
    }
   ],
   "source": [
    "%%javascript\n",
    "// Disable auto-scrolling\n",
    "IPython.OutputArea.prototype._should_scroll = function(lines) {\n",
    "    return false;\n",
    "}"
   ]
  },
  {
   "cell_type": "markdown",
   "metadata": {},
   "source": [
    "### Import packages in R"
   ]
  },
  {
   "cell_type": "code",
   "execution_count": 4,
   "metadata": {},
   "outputs": [
    {
     "name": "stdout",
     "output_type": "stream",
     "text": [
      "--- Please select a CRAN mirror for use in this session ---\n",
      "Secure CRAN mirrors \n",
      "\n",
      " 1: 0-Cloud [https]\n",
      " 2: Australia (Canberra) [https]\n",
      " 3: Australia (Melbourne 1) [https]\n",
      " 4: Australia (Melbourne 2) [https]\n",
      " 5: Austria (Wien 1) [https]\n",
      " 6: Belgium (Brussels) [https]\n",
      " 7: Brazil (PR) [https]\n",
      " 8: Brazil (SP 1) [https]\n",
      " 9: Brazil (SP 2) [https]\n",
      "10: Bulgaria [https]\n",
      "11: Canada (MB) [https]\n",
      "12: Canada (ON 1) [https]\n",
      "13: Canada (ON 2) [https]\n",
      "14: Chile (Santiago) [https]\n",
      "15: China (Beijing 2) [https]\n",
      "16: China (Beijing 3) [https]\n",
      "17: China (Hefei) [https]\n",
      "18: China (Hong Kong) [https]\n",
      "19: China (Jinan) [https]\n",
      "20: China (Lanzhou) [https]\n",
      "21: China (Nanjing) [https]\n",
      "22: China (Shanghai 2) [https]\n",
      "23: China (Shenzhen) [https]\n",
      "24: China (Wuhan) [https]\n",
      "25: Colombia (Cali) [https]\n",
      "26: Costa Rica [https]\n",
      "27: Cyprus [https]\n",
      "28: Czech Republic [https]\n",
      "29: Denmark [https]\n",
      "30: East Asia [https]\n",
      "31: Ecuador (Cuenca) [https]\n",
      "32: France (Lyon 1) [https]\n",
      "33: France (Lyon 2) [https]\n",
      "34: France (Marseille) [https]\n",
      "35: France (Paris 1) [https]\n",
      "36: Germany (Erlangen) [https]\n",
      "37: Germany (Göttingen) [https]\n",
      "38: Germany (Leipzig) [https]\n",
      "39: Germany (Münster) [https]\n",
      "40: Greece [https]\n",
      "41: Iceland [https]\n",
      "42: India (Bengaluru) [https]\n",
      "43: India (Bhubaneswar) [https]\n",
      "44: Indonesia (Banda Aceh) [https]\n",
      "45: Iran (Mashhad) [https]\n",
      "46: Italy (Milano) [https]\n",
      "47: Italy (Padua) [https]\n",
      "48: Japan (Yonezawa) [https]\n",
      "49: Korea (Gyeongsan-si) [https]\n",
      "50: Mexico (Mexico City) [https]\n",
      "51: Mexico (Texcoco) [https]\n",
      "52: Morocco [https]\n",
      "53: Netherlands (Dronten) [https]\n",
      "54: New Zealand [https]\n",
      "55: South Africa (Johannesburg) [https]\n",
      "56: Spain (A Coruña) [https]\n",
      "57: Spain (Madrid) [https]\n",
      "58: Sweden (Umeå) [https]\n",
      "59: Switzerland (Zurich 1) [https]\n",
      "60: Taiwan (Taipei) [https]\n",
      "61: Turkey (Denizli) [https]\n",
      "62: UK (Bristol) [https]\n",
      "63: UK (London 1) [https]\n",
      "64: USA (IA) [https]\n",
      "65: USA (MI) [https]\n",
      "66: USA (MO) [https]\n",
      "67: USA (OH) [https]\n",
      "68: USA (OR) [https]\n",
      "69: USA (PA 1) [https]\n",
      "70: USA (TN) [https]\n",
      "71: USA (UT) [https]\n",
      "72: United Arab Emirates [https]\n",
      "73: Uruguay [https]\n",
      "74: (other mirrors)\n",
      "\n"
     ]
    },
    {
     "name": "stdin",
     "output_type": "stream",
     "text": [
      "Selection:  66\n"
     ]
    },
    {
     "name": "stdout",
     "output_type": "stream",
     "text": [
      "\n",
      "The downloaded binary packages are in\n",
      "\t/var/folders/ht/lsndydln7jl_5ttkmj9tcl7c0000gn/T//Rtmp9nUzNw/downloaded_packages\n",
      "── Attaching core tidyverse packages ──────────────────────── tidyverse 2.0.0 ──\n",
      "✔ dplyr     1.1.4     ✔ readr     2.1.5\n",
      "✔ forcats   1.0.0     ✔ stringr   1.5.1\n",
      "✔ ggplot2   3.5.1     ✔ tibble    3.2.1\n",
      "✔ lubridate 1.9.3     ✔ tidyr     1.3.0\n",
      "✔ purrr     1.0.2     \n",
      "── Conflicts ────────────────────────────────────────── tidyverse_conflicts() ──\n",
      "✖ dplyr::filter() masks stats::filter()\n",
      "✖ dplyr::lag()    masks stats::lag()\n",
      "ℹ Use the conflicted package (<http://conflicted.r-lib.org/>) to force all conflicts to become errors\n"
     ]
    },
    {
     "data": {
      "text/plain": [
       "trying URL 'https://cran.wustl.edu/bin/macosx/big-sur-arm64/contrib/4.3/tidyverse_2.0.0.tgz'\n",
       "Content type 'application/x-gzip' length 428470 bytes (418 KB)\n",
       "==================================================\n",
       "downloaded 418 KB\n",
       "\n",
       "Loading required package: tidyverse\n",
       "In addition: Warning message:\n",
       "In doTryCatch(return(expr), name, parentenv, handler) :\n",
       "  unable to load shared object '/Library/Frameworks/R.framework/Resources/modules//R_X11.so':\n",
       "  dlopen(/Library/Frameworks/R.framework/Resources/modules//R_X11.so, 0x0006): Library not loaded: /opt/X11/lib/libSM.6.dylib\n",
       "  Referenced from: <B3716E5A-BF4D-3CA3-B8EB-89643DB72A04> /Library/Frameworks/R.framework/Versions/4.3-arm64/Resources/modules/R_X11.so\n",
       "  Reason: tried: '/opt/X11/lib/libSM.6.dylib' (no such file), '/System/Volumes/Preboot/Cryptexes/OS/opt/X11/lib/libSM.6.dylib' (no such file), '/opt/X11/lib/libSM.6.dylib' (no such file), '/usr/local/lib/libSM.6.dylib' (no such file), '/usr/lib/libSM.6.dylib' (no such file, not in dyld cache)\n"
      ]
     },
     "metadata": {},
     "output_type": "display_data"
    }
   ],
   "source": [
    "%%R\n",
    "install.packages(\"tidyverse\")\n",
    "require('tidyverse')"
   ]
  },
  {
   "cell_type": "markdown",
   "metadata": {},
   "source": [
    "### Read data"
   ]
  },
  {
   "cell_type": "code",
   "execution_count": 38,
   "metadata": {},
   "outputs": [
    {
     "name": "stdout",
     "output_type": "stream",
     "text": [
      "Rows: 189 Columns: 12\n",
      "── Column specification ────────────────────────────────────────────────────────\n",
      "Delimiter: \",\"\n",
      "chr  (1): borough\n",
      "dbl (11): zip, population, pct_hispanic_or_latino, pct_asian, pct_american_i...\n",
      "\n",
      "ℹ Use `spec()` to retrieve the full column specification for this data.\n",
      "ℹ Specify the column types or set `show_col_types = FALSE` to quiet this message.\n"
     ]
    }
   ],
   "source": [
    "%%R\n",
    "\n",
    "# Read data\n",
    "df <- read_csv('housing_data.csv')"
   ]
  },
  {
   "cell_type": "markdown",
   "metadata": {},
   "source": [
    "### R syntax - getting a column\n",
    "in R, the `$` lets you grab a column of a dataframe\n",
    "\n",
    "in Python this might be something like `df[\"pct_below_poverty\"]"
   ]
  },
  {
   "cell_type": "code",
   "execution_count": 6,
   "metadata": {},
   "outputs": [
    {
     "name": "stdout",
     "output_type": "stream",
     "text": [
      "  [1] 19.69 10.68 25.22 25.68 25.20 12.53 15.74 13.10  7.51 27.25 37.16 16.29\n",
      " [13] 14.27 28.50  9.13 34.96 34.92 34.92 19.92 34.02 10.81 21.34 13.64 37.77\n",
      " [25] 18.65 21.76 27.14 29.75 17.12 32.86 20.80 14.55 19.09 34.41 36.23 17.82\n",
      " [37] 37.14 27.36  8.43 18.51 15.60 15.60 16.71 16.71  7.09 19.42 31.16 10.97\n",
      " [49] 22.69 25.27 11.76  9.46 14.83 12.35 20.76 12.79  7.96  5.88 13.45 21.97\n",
      " [61] 26.48 35.61  6.01  6.01 17.62 23.54  7.40 16.98 17.25 11.89  9.20  9.24\n",
      " [73] 19.84  8.20  9.92 15.38 29.09 33.55 11.51 36.13 10.76 27.67  5.30 28.12\n",
      " [85] 12.80 21.04 12.24 12.07  5.21 12.73 13.69 11.31 12.32 18.21 38.14 13.26\n",
      " [97]  6.77  3.15 10.37 14.53 21.56  5.32 23.14  8.72 15.03 18.67  7.53 14.71\n",
      "[109]  8.18 12.63 43.12 16.36  9.33 10.18  9.27  7.39 36.77 11.51 10.82  6.63\n",
      "[121]  6.37 11.56 15.20 16.85 13.37  3.98 27.58 27.58  5.79  9.20 16.08  5.88\n",
      "[133]  4.36 10.73 14.33  9.68  3.17 25.47  8.03 23.01  8.07 14.11 20.15 10.14\n",
      "[145]  8.54 13.06 16.41  9.90 11.08 18.57  9.25  2.45 25.60 11.19  4.05  7.68\n",
      "[157] 25.16 11.24  7.16 10.13  7.64  7.64  6.03 16.88 10.68  6.49 12.50  6.06\n",
      "[169]  4.67 11.54 14.34 24.84 10.56 47.90  4.87 14.16  9.46  5.86  2.16  6.96\n",
      "[181]  9.25  2.81  2.33  7.01  7.11  1.32  3.36  0.00 72.77\n"
     ]
    }
   ],
   "source": [
    "%%R\n",
    "\n",
    "# Get a column\n",
    "df$pct_below_poverty"
   ]
  },
  {
   "cell_type": "markdown",
   "metadata": {},
   "source": [
    "### R syntax - the almighty pipe `%>%`\n",
    "\n",
    "The pipe (`%>%`) takes the output of the previous function and makes it the input to the next\n",
    "\n",
    "https://towardsdatascience.com/an-introduction-to-the-pipe-in-r-823090760d64\n"
   ]
  },
  {
   "cell_type": "code",
   "execution_count": 8,
   "metadata": {},
   "outputs": [
    {
     "name": "stdout",
     "output_type": "stream",
     "text": [
      "[1] 15.87868\n"
     ]
    }
   ],
   "source": [
    "%%R \n",
    "\n",
    "df$pct_below_poverty %>% #Step 1\n",
    "    mean() #Step 2\n",
    "\n",
    "# Equivalent to...\n",
    "# mean(df$pct_below_poverty)"
   ]
  },
  {
   "cell_type": "code",
   "execution_count": 9,
   "metadata": {},
   "outputs": [
    {
     "name": "stdout",
     "output_type": "stream",
     "text": [
      "[1] 13.06\n"
     ]
    }
   ],
   "source": [
    "%%R\n",
    "\n",
    "df$pct_below_poverty %>% \n",
    "    median()"
   ]
  },
  {
   "cell_type": "code",
   "execution_count": 10,
   "metadata": {},
   "outputs": [
    {
     "name": "stdout",
     "output_type": "stream",
     "text": [
      "[1] 108.451\n"
     ]
    }
   ],
   "source": [
    "%%R \n",
    "\n",
    "df$pct_below_poverty %>% \n",
    "    var() # Variance"
   ]
  },
  {
   "cell_type": "code",
   "execution_count": 11,
   "metadata": {},
   "outputs": [
    {
     "name": "stdout",
     "output_type": "stream",
     "text": [
      "[1] 10.41398\n"
     ]
    }
   ],
   "source": [
    "%%R \n",
    "\n",
    "df$pct_below_poverty %>% \n",
    "    sd() # Standard Deviation"
   ]
  },
  {
   "cell_type": "code",
   "execution_count": 12,
   "metadata": {},
   "outputs": [
    {
     "name": "stdout",
     "output_type": "stream",
     "text": [
      "# A tibble: 5 × 4\n",
      "  borough        mean median standard_deviation\n",
      "  <chr>         <dbl>  <dbl>              <dbl>\n",
      "1 BRONX          26.7  28.7               11.6 \n",
      "2 BROOKLYN       18.6  17.2                8.20\n",
      "3 MANHATTAN      13.8  11.0                9.41\n",
      "4 QUEENS         12.0  10.7                9.06\n",
      "5 STATEN ISLAND  12.0   9.24               6.58\n"
     ]
    }
   ],
   "source": [
    "%%R \n",
    "\n",
    "df %>% \n",
    "    group_by(borough) %>%\n",
    "    summarize(\n",
    "        mean=mean(pct_below_poverty), \n",
    "        median=median(pct_below_poverty), \n",
    "        standard_deviation=sd(pct_below_poverty)\n",
    "             )"
   ]
  },
  {
   "cell_type": "markdown",
   "metadata": {},
   "source": [
    "**👉 Try It**\n",
    "Compare the summary statistics to the distributions in your previous assignment. What story do they tell? What stories do they obscure? Why was it important to plot the data in the case of this dataset? What did you gain from plotting the `pct_below_poverty` distribution in various different ways?\n",
    "\n",
    "> Write your answer here"
   ]
  },
  {
   "cell_type": "code",
   "execution_count": null,
   "metadata": {},
   "outputs": [],
   "source": [
    "# Dotplot is better at showing the bimodal distribution of Bronx. \n",
    "# Boxplot gives us the outliers in Queens borough directly. "
   ]
  },
  {
   "cell_type": "markdown",
   "metadata": {},
   "source": [
    "### Filter"
   ]
  },
  {
   "cell_type": "code",
   "execution_count": 16,
   "metadata": {},
   "outputs": [
    {
     "name": "stdout",
     "output_type": "stream",
     "text": [
      "# A tibble: 62 × 12\n",
      "     zip population borough pct_hispanic_or_latino pct_asian\n",
      "   <dbl>      <dbl> <chr>                    <dbl>     <dbl>\n",
      " 1 11368     112088 QUEENS                    76.5     11.6 \n",
      " 2 11385     107796 QUEENS                    45.0      6.46\n",
      " 3 11373      94437 QUEENS                    41.7     48.5 \n",
      " 4 11377      83825 QUEENS                    37.5     36.8 \n",
      " 5 11355      80987 QUEENS                    15.5     72.5 \n",
      " 6 11375      73034 QUEENS                    15.0     28.7 \n",
      " 7 11691      68543 QUEENS                    26.9      3.16\n",
      " 8 11434      64304 QUEENS                     8.1      3.11\n",
      " 9 11432      64299 QUEENS                    23.6     42.4 \n",
      "10 11372      62854 QUEENS                    57.5     20.8 \n",
      "# ℹ 52 more rows\n",
      "# ℹ 7 more variables: pct_american_indian_and_alaska_native <dbl>,\n",
      "#   pct_black_or_african_american <dbl>, pct_white <dbl>,\n",
      "#   pct_native_hawaiian_and_other_pacific_islander <dbl>,\n",
      "#   pct_some_other_race <dbl>, pct_two_or_more_races <dbl>,\n",
      "#   pct_below_poverty <dbl>\n",
      "# ℹ Use `print(n = ...)` to see more rows\n"
     ]
    }
   ],
   "source": [
    "%%R\n",
    "df %>% \n",
    "  filter(borough == 'QUEENS')"
   ]
  },
  {
   "cell_type": "markdown",
   "metadata": {},
   "source": [
    "### Select"
   ]
  },
  {
   "cell_type": "code",
   "execution_count": 19,
   "metadata": {},
   "outputs": [
    {
     "name": "stdout",
     "output_type": "stream",
     "text": [
      "# A tibble: 62 × 4\n",
      "     zip borough pct_asian pct_white\n",
      "   <dbl> <chr>       <dbl>     <dbl>\n",
      " 1 11368 QUEENS      11.6       3.73\n",
      " 2 11385 QUEENS       6.46     45.3 \n",
      " 3 11373 QUEENS      48.5       6.18\n",
      " 4 11377 QUEENS      36.8      20.7 \n",
      " 5 11355 QUEENS      72.5       7.21\n",
      " 6 11375 QUEENS      28.7      49.8 \n",
      " 7 11691 QUEENS       3.16     23.0 \n",
      " 8 11434 QUEENS       3.11      1.6 \n",
      " 9 11432 QUEENS      42.4      12.7 \n",
      "10 11372 QUEENS      20.8      17.6 \n",
      "# ℹ 52 more rows\n",
      "# ℹ Use `print(n = ...)` to see more rows\n"
     ]
    }
   ],
   "source": [
    "%%R\n",
    "df %>% \n",
    "  filter(borough == 'QUEENS') %>% \n",
    "  select(zip, borough, pct_asian, pct_white) "
   ]
  },
  {
   "cell_type": "markdown",
   "metadata": {},
   "source": [
    "### Mutate"
   ]
  },
  {
   "cell_type": "code",
   "execution_count": 27,
   "metadata": {},
   "outputs": [
    {
     "name": "stdout",
     "output_type": "stream",
     "text": [
      "# A tibble: 189 × 5\n",
      "     zip borough  pct_asian pct_white city \n",
      "   <dbl> <chr>        <dbl>     <dbl> <chr>\n",
      " 1 11368 QUEENS       11.6       3.73 NYC  \n",
      " 2 11385 QUEENS        6.46     45.3  NYC  \n",
      " 3 11211 BROOKLYN      5.53     64.2  NYC  \n",
      " 4 11208 BROOKLYN      6.01      2.71 NYC  \n",
      " 5 10467 BRONX         5.68      9.24 NYC  \n",
      " 6 11236 BROOKLYN      2.58      4.13 NYC  \n",
      " 7 11226 BROOKLYN      3.07     13.0  NYC  \n",
      " 8 11373 QUEENS       48.5       6.18 NYC  \n",
      " 9 11234 BROOKLYN      7.19     37.2  NYC  \n",
      "10 11220 BROOKLYN     41.4      13.9  NYC  \n",
      "# ℹ 179 more rows\n",
      "# ℹ Use `print(n = ...)` to see more rows\n"
     ]
    }
   ],
   "source": [
    "%%R\n",
    "df_new <- df %>% \n",
    "    select(zip, borough, pct_asian, pct_white) %>% \n",
    "    mutate(city='NYC')\n",
    "df_new"
   ]
  },
  {
   "cell_type": "markdown",
   "metadata": {},
   "source": [
    "### Group by"
   ]
  },
  {
   "cell_type": "code",
   "execution_count": 48,
   "metadata": {},
   "outputs": [
    {
     "name": "stdout",
     "output_type": "stream",
     "text": [
      "# A tibble: 189 × 12\n",
      "# Groups:   borough [5]\n",
      "     zip population borough  pct_hispanic_or_latino pct_asian\n",
      "   <dbl>      <dbl> <chr>                     <dbl>     <dbl>\n",
      " 1 11368     112088 QUEENS                    76.5      11.6 \n",
      " 2 11385     107796 QUEENS                    45.0       6.46\n",
      " 3 11211     103123 BROOKLYN                  24.1       5.53\n",
      " 4 11208     101313 BROOKLYN                  40.6       6.01\n",
      " 5 10467     101255 BRONX                     52.1       5.68\n",
      " 6 11236     100844 BROOKLYN                   7.66      2.58\n",
      " 7 11226      99558 BROOKLYN                  16.4       3.07\n",
      " 8 11373      94437 QUEENS                    41.7      48.5 \n",
      " 9 11234      93534 BROOKLYN                  11.1       7.19\n",
      "10 11220      93170 BROOKLYN                  41.3      41.4 \n",
      "# ℹ 179 more rows\n",
      "# ℹ 7 more variables: pct_american_indian_and_alaska_native <dbl>,\n",
      "#   pct_black_or_african_american <dbl>, pct_white <dbl>,\n",
      "#   pct_native_hawaiian_and_other_pacific_islander <dbl>,\n",
      "#   pct_some_other_race <dbl>, pct_two_or_more_races <dbl>,\n",
      "#   pct_below_poverty <dbl>\n",
      "# ℹ Use `print(n = ...)` to see more rows\n"
     ]
    }
   ],
   "source": [
    "%%R\n",
    "df %>% \n",
    "    group_by(borough)"
   ]
  },
  {
   "cell_type": "code",
   "execution_count": 39,
   "metadata": {},
   "outputs": [
    {
     "name": "stdout",
     "output_type": "stream",
     "text": [
      "Error in `arrange()`:\n",
      "ℹ In argument: `..2 = evictions`.\n",
      "Caused by error:\n",
      "! object 'evictions' not found\n",
      "Run `rlang::last_trace()` to see where the error occurred.\n",
      "\n",
      "Error in arrange(., evictions, .by_group = TRUE) : \n",
      "Caused by error:\n",
      "! object 'evictions' not found\n"
     ]
    },
    {
     "ename": "RInterpreterError",
     "evalue": "Failed to parse and evaluate line \"df_grouped_and_sorted <- df %>%\\n  group_by(borough) %>%               # Group by 'borough'\\n  arrange(evictions, .by_group = TRUE) # Sort evictions within each 'borough'\\n\\n# View the result\\ndf_grouped_and_sorted\\n\".\nR error message: \"Error in arrange(., evictions, .by_group = TRUE) : \\nCaused by error:\\n! object 'evictions' not found\"",
     "output_type": "error",
     "traceback": [
      "\u001b[0;31m---------------------------------------------------------------------------\u001b[0m",
      "\u001b[0;31mRRuntimeError\u001b[0m                             Traceback (most recent call last)",
      "File \u001b[0;32m~/.pyenv/versions/3.11.8/lib/python3.11/site-packages/rpy2/ipython/rmagic.py:407\u001b[0m, in \u001b[0;36mRMagics.eval\u001b[0;34m(self, code)\u001b[0m\n\u001b[1;32m    406\u001b[0m     r_expr \u001b[38;5;241m=\u001b[39m ri\u001b[38;5;241m.\u001b[39mparse(code)\n\u001b[0;32m--> 407\u001b[0m     value, visible \u001b[38;5;241m=\u001b[39m \u001b[43mri\u001b[49m\u001b[38;5;241;43m.\u001b[39;49m\u001b[43mevalr_expr_with_visible\u001b[49m\u001b[43m(\u001b[49m\n\u001b[1;32m    408\u001b[0m \u001b[43m        \u001b[49m\u001b[43mr_expr\u001b[49m\n\u001b[1;32m    409\u001b[0m \u001b[43m    \u001b[49m\u001b[43m)\u001b[49m\n\u001b[1;32m    410\u001b[0m \u001b[38;5;28;01mexcept\u001b[39;00m (ri\u001b[38;5;241m.\u001b[39membedded\u001b[38;5;241m.\u001b[39mRRuntimeError, \u001b[38;5;167;01mValueError\u001b[39;00m) \u001b[38;5;28;01mas\u001b[39;00m exception:\n\u001b[1;32m    411\u001b[0m     \u001b[38;5;66;03m# Otherwise next return seems to have copy of error.\u001b[39;00m\n",
      "File \u001b[0;32m~/.pyenv/versions/3.11.8/lib/python3.11/site-packages/rpy2/rinterface.py:194\u001b[0m, in \u001b[0;36mevalr_expr_with_visible\u001b[0;34m(expr, envir)\u001b[0m\n\u001b[1;32m    193\u001b[0m \u001b[38;5;28;01mif\u001b[39;00m error_occured[\u001b[38;5;241m0\u001b[39m]:\n\u001b[0;32m--> 194\u001b[0m     \u001b[38;5;28;01mraise\u001b[39;00m embedded\u001b[38;5;241m.\u001b[39mRRuntimeError(_rinterface\u001b[38;5;241m.\u001b[39m_geterrmessage())\n\u001b[1;32m    195\u001b[0m res \u001b[38;5;241m=\u001b[39m conversion\u001b[38;5;241m.\u001b[39m_cdata_to_rinterface(r_res)\n",
      "\u001b[0;31mRRuntimeError\u001b[0m: Error in arrange(., evictions, .by_group = TRUE) : \nCaused by error:\n! object 'evictions' not found\n",
      "\nDuring handling of the above exception, another exception occurred:\n",
      "\u001b[0;31mRInterpreterError\u001b[0m                         Traceback (most recent call last)",
      "Cell \u001b[0;32mIn[39], line 1\u001b[0m\n\u001b[0;32m----> 1\u001b[0m \u001b[43mget_ipython\u001b[49m\u001b[43m(\u001b[49m\u001b[43m)\u001b[49m\u001b[38;5;241;43m.\u001b[39;49m\u001b[43mrun_cell_magic\u001b[49m\u001b[43m(\u001b[49m\u001b[38;5;124;43m'\u001b[39;49m\u001b[38;5;124;43mR\u001b[39;49m\u001b[38;5;124;43m'\u001b[39;49m\u001b[43m,\u001b[49m\u001b[43m \u001b[49m\u001b[38;5;124;43m'\u001b[39;49m\u001b[38;5;124;43m'\u001b[39;49m\u001b[43m,\u001b[49m\u001b[43m \u001b[49m\u001b[38;5;124;43m\"\u001b[39;49m\u001b[38;5;124;43mdf_grouped_and_sorted <- df \u001b[39;49m\u001b[38;5;124;43m%\u001b[39;49m\u001b[38;5;124;43m>\u001b[39;49m\u001b[38;5;124;43m%\u001b[39;49m\u001b[38;5;130;43;01m\\n\u001b[39;49;00m\u001b[38;5;124;43m  group_by(borough) \u001b[39;49m\u001b[38;5;124;43m%\u001b[39;49m\u001b[38;5;124;43m>\u001b[39;49m\u001b[38;5;132;43;01m%               # G\u001b[39;49;00m\u001b[38;5;124;43mroup by \u001b[39;49m\u001b[38;5;124;43m'\u001b[39;49m\u001b[38;5;124;43mborough\u001b[39;49m\u001b[38;5;124;43m'\u001b[39;49m\u001b[38;5;130;43;01m\\n\u001b[39;49;00m\u001b[38;5;124;43m  arrange(evictions, .by_group = TRUE) # Sort evictions within each \u001b[39;49m\u001b[38;5;124;43m'\u001b[39;49m\u001b[38;5;124;43mborough\u001b[39;49m\u001b[38;5;124;43m'\u001b[39;49m\u001b[38;5;130;43;01m\\n\u001b[39;49;00m\u001b[38;5;130;43;01m\\n\u001b[39;49;00m\u001b[38;5;124;43m# View the result\u001b[39;49m\u001b[38;5;130;43;01m\\n\u001b[39;49;00m\u001b[38;5;124;43mdf_grouped_and_sorted\u001b[39;49m\u001b[38;5;130;43;01m\\n\u001b[39;49;00m\u001b[38;5;124;43m\"\u001b[39;49m\u001b[43m)\u001b[49m\n",
      "File \u001b[0;32m~/.pyenv/versions/3.11.8/lib/python3.11/site-packages/IPython/core/interactiveshell.py:2541\u001b[0m, in \u001b[0;36mInteractiveShell.run_cell_magic\u001b[0;34m(self, magic_name, line, cell)\u001b[0m\n\u001b[1;32m   2539\u001b[0m \u001b[38;5;28;01mwith\u001b[39;00m \u001b[38;5;28mself\u001b[39m\u001b[38;5;241m.\u001b[39mbuiltin_trap:\n\u001b[1;32m   2540\u001b[0m     args \u001b[38;5;241m=\u001b[39m (magic_arg_s, cell)\n\u001b[0;32m-> 2541\u001b[0m     result \u001b[38;5;241m=\u001b[39m \u001b[43mfn\u001b[49m\u001b[43m(\u001b[49m\u001b[38;5;241;43m*\u001b[39;49m\u001b[43margs\u001b[49m\u001b[43m,\u001b[49m\u001b[43m \u001b[49m\u001b[38;5;241;43m*\u001b[39;49m\u001b[38;5;241;43m*\u001b[39;49m\u001b[43mkwargs\u001b[49m\u001b[43m)\u001b[49m\n\u001b[1;32m   2543\u001b[0m \u001b[38;5;66;03m# The code below prevents the output from being displayed\u001b[39;00m\n\u001b[1;32m   2544\u001b[0m \u001b[38;5;66;03m# when using magics with decorator @output_can_be_silenced\u001b[39;00m\n\u001b[1;32m   2545\u001b[0m \u001b[38;5;66;03m# when the last Python token in the expression is a ';'.\u001b[39;00m\n\u001b[1;32m   2546\u001b[0m \u001b[38;5;28;01mif\u001b[39;00m \u001b[38;5;28mgetattr\u001b[39m(fn, magic\u001b[38;5;241m.\u001b[39mMAGIC_OUTPUT_CAN_BE_SILENCED, \u001b[38;5;28;01mFalse\u001b[39;00m):\n",
      "File \u001b[0;32m~/.pyenv/versions/3.11.8/lib/python3.11/site-packages/rpy2/ipython/rmagic.py:984\u001b[0m, in \u001b[0;36mRMagics.R\u001b[0;34m(self, line, cell, local_ns)\u001b[0m\n\u001b[1;32m    982\u001b[0m     \u001b[38;5;28;01mif\u001b[39;00m \u001b[38;5;129;01mnot\u001b[39;00m e\u001b[38;5;241m.\u001b[39mstdout\u001b[38;5;241m.\u001b[39mendswith(e\u001b[38;5;241m.\u001b[39merr):\n\u001b[1;32m    983\u001b[0m         \u001b[38;5;28mprint\u001b[39m(e\u001b[38;5;241m.\u001b[39merr)\n\u001b[0;32m--> 984\u001b[0m     \u001b[38;5;28;01mraise\u001b[39;00m e\n\u001b[1;32m    985\u001b[0m \u001b[38;5;28;01mfinally\u001b[39;00m:\n\u001b[1;32m    986\u001b[0m     \u001b[38;5;28;01mif\u001b[39;00m \u001b[38;5;28mself\u001b[39m\u001b[38;5;241m.\u001b[39mdevice \u001b[38;5;129;01min\u001b[39;00m DEVICES_STATIC:\n",
      "File \u001b[0;32m~/.pyenv/versions/3.11.8/lib/python3.11/site-packages/rpy2/ipython/rmagic.py:949\u001b[0m, in \u001b[0;36mRMagics.R\u001b[0;34m(self, line, cell, local_ns)\u001b[0m\n\u001b[1;32m    947\u001b[0m         return_output \u001b[38;5;241m=\u001b[39m \u001b[38;5;28;01mFalse\u001b[39;00m\n\u001b[1;32m    948\u001b[0m \u001b[38;5;28;01melse\u001b[39;00m:\n\u001b[0;32m--> 949\u001b[0m     text_result, result, visible \u001b[38;5;241m=\u001b[39m \u001b[38;5;28;43mself\u001b[39;49m\u001b[38;5;241;43m.\u001b[39;49m\u001b[43meval\u001b[49m\u001b[43m(\u001b[49m\u001b[43mcode\u001b[49m\u001b[43m)\u001b[49m\n\u001b[1;32m    950\u001b[0m     text_output \u001b[38;5;241m+\u001b[39m\u001b[38;5;241m=\u001b[39m text_result\n\u001b[1;32m    951\u001b[0m     \u001b[38;5;28;01mif\u001b[39;00m visible:\n",
      "File \u001b[0;32m~/.pyenv/versions/3.11.8/lib/python3.11/site-packages/rpy2/ipython/rmagic.py:413\u001b[0m, in \u001b[0;36mRMagics.eval\u001b[0;34m(self, code)\u001b[0m\n\u001b[1;32m    410\u001b[0m \u001b[38;5;28;01mexcept\u001b[39;00m (ri\u001b[38;5;241m.\u001b[39membedded\u001b[38;5;241m.\u001b[39mRRuntimeError, \u001b[38;5;167;01mValueError\u001b[39;00m) \u001b[38;5;28;01mas\u001b[39;00m exception:\n\u001b[1;32m    411\u001b[0m     \u001b[38;5;66;03m# Otherwise next return seems to have copy of error.\u001b[39;00m\n\u001b[1;32m    412\u001b[0m     warning_or_other_msg \u001b[38;5;241m=\u001b[39m \u001b[38;5;28mself\u001b[39m\u001b[38;5;241m.\u001b[39mflush()\n\u001b[0;32m--> 413\u001b[0m     \u001b[38;5;28;01mraise\u001b[39;00m RInterpreterError(code, \u001b[38;5;28mstr\u001b[39m(exception),\n\u001b[1;32m    414\u001b[0m                             warning_or_other_msg)\n\u001b[1;32m    415\u001b[0m \u001b[38;5;28;01mfinally\u001b[39;00m:\n\u001b[1;32m    416\u001b[0m     ro\u001b[38;5;241m.\u001b[39m_print_deferred_warnings()\n",
      "\u001b[0;31mRInterpreterError\u001b[0m: Failed to parse and evaluate line \"df_grouped_and_sorted <- df %>%\\n  group_by(borough) %>%               # Group by 'borough'\\n  arrange(evictions, .by_group = TRUE) # Sort evictions within each 'borough'\\n\\n# View the result\\ndf_grouped_and_sorted\\n\".\nR error message: \"Error in arrange(., evictions, .by_group = TRUE) : \\nCaused by error:\\n! object 'evictions' not found\""
     ]
    }
   ],
   "source": [
    "%%R\n",
    "df_grouped_and_sorted <- df %>%\n",
    "  group_by(borough) %>%               # Group by 'borough'\n",
    "  arrange(evictions, .by_group = TRUE) # Sort evictions within each 'borough'\n",
    "\n",
    "# View the result\n",
    "df_grouped_and_sorted"
   ]
  },
  {
   "cell_type": "markdown",
   "metadata": {},
   "source": [
    "### What was that one census tract in Queens with a really high pct_below_poverty? Use R code to filter to that zip code\n",
    "### (hint: you will need to use the `filter` and the almighty pipe `%>%`)"
   ]
  },
  {
   "cell_type": "markdown",
   "metadata": {},
   "source": [
    "### Arrange"
   ]
  },
  {
   "cell_type": "code",
   "execution_count": 51,
   "metadata": {},
   "outputs": [
    {
     "name": "stdout",
     "output_type": "stream",
     "text": [
      "# A tibble: 1 × 3\n",
      "    zip borough pct_below_poverty\n",
      "  <dbl> <chr>               <dbl>\n",
      "1 11430 QUEENS               72.8\n"
     ]
    }
   ],
   "source": [
    "%%R\n",
    "highest_poverty_queens <- df %>% \n",
    "  filter(borough == 'QUEENS') %>% \n",
    "  select(zip, borough, pct_below_poverty) %>% \n",
    "  arrange(desc(pct_below_poverty)) %>% \n",
    "  slice(1)\n",
    "highest_poverty_queens"
   ]
  },
  {
   "cell_type": "code",
   "execution_count": null,
   "metadata": {},
   "outputs": [],
   "source": []
  }
 ],
 "metadata": {
  "kernelspec": {
   "display_name": "Python 3 (ipykernel)",
   "language": "python",
   "name": "python3"
  },
  "language_info": {
   "codemirror_mode": {
    "name": "ipython",
    "version": 3
   },
   "file_extension": ".py",
   "mimetype": "text/x-python",
   "name": "python",
   "nbconvert_exporter": "python",
   "pygments_lexer": "ipython3",
   "version": "3.11.8"
  }
 },
 "nbformat": 4,
 "nbformat_minor": 4
}
